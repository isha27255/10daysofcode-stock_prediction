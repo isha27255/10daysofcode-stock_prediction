{
 "metadata": {
  "language_info": {
   "codemirror_mode": {
    "name": "ipython",
    "version": 3
   },
   "file_extension": ".py",
   "mimetype": "text/x-python",
   "name": "python",
   "nbconvert_exporter": "python",
   "pygments_lexer": "ipython3",
   "version": "3.8.2-final"
  },
  "orig_nbformat": 2,
  "kernelspec": {
   "name": "python_defaultSpec_1600172162105",
   "display_name": "Python 3.8.2 64-bit ('venv': venv)"
  }
 },
 "nbformat": 4,
 "nbformat_minor": 2,
 "cells": [
  {
   "cell_type": "code",
   "execution_count": 13,
   "metadata": {},
   "outputs": [],
   "source": [
    "import yfinance as yf\n",
    "from matplotlib import pyplot"
   ]
  },
  {
   "cell_type": "code",
   "execution_count": 2,
   "metadata": {
    "tags": []
   },
   "outputs": [
    {
     "output_type": "stream",
     "name": "stdout",
     "text": "[*********************100%***********************]  1 of 1 completed\n"
    },
    {
     "output_type": "execute_result",
     "data": {
      "text/plain": "                  Open        High         Low       Close   Adj Close  \\\nDate                                                                     \n2019-12-31   72.482498   73.419998   72.379997   73.412498   72.909500   \n2020-01-02   74.059998   75.150002   73.797501   75.087502   74.573036   \n2020-01-03   74.287498   75.144997   74.125000   74.357498   73.848030   \n2020-01-06   73.447502   74.989998   73.187500   74.949997   74.436470   \n2020-01-07   74.959999   75.224998   74.370003   74.597504   74.086395   \n...                ...         ...         ...         ...         ...   \n2020-09-02  137.589996  137.979996  127.000000  131.399994  131.399994   \n2020-09-03  126.910004  128.839996  120.500000  120.879997  120.879997   \n2020-09-04  120.070000  123.699997  110.889999  120.959999  120.959999   \n2020-09-08  113.949997  118.989998  112.680000  112.820000  112.820000   \n2020-09-09  117.260002  119.139999  115.260002  117.320000  117.320000   \n\n               Volume  \nDate                   \n2019-12-31  100805600  \n2020-01-02  135480400  \n2020-01-03  146322800  \n2020-01-06  118387200  \n2020-01-07  108872000  \n...               ...  \n2020-09-02  200119000  \n2020-09-03  257599600  \n2020-09-04  332607200  \n2020-09-08  231366600  \n2020-09-09  176940500  \n\n[175 rows x 6 columns]",
      "text/html": "<div>\n<style scoped>\n    .dataframe tbody tr th:only-of-type {\n        vertical-align: middle;\n    }\n\n    .dataframe tbody tr th {\n        vertical-align: top;\n    }\n\n    .dataframe thead th {\n        text-align: right;\n    }\n</style>\n<table border=\"1\" class=\"dataframe\">\n  <thead>\n    <tr style=\"text-align: right;\">\n      <th></th>\n      <th>Open</th>\n      <th>High</th>\n      <th>Low</th>\n      <th>Close</th>\n      <th>Adj Close</th>\n      <th>Volume</th>\n    </tr>\n    <tr>\n      <th>Date</th>\n      <th></th>\n      <th></th>\n      <th></th>\n      <th></th>\n      <th></th>\n      <th></th>\n    </tr>\n  </thead>\n  <tbody>\n    <tr>\n      <th>2019-12-31</th>\n      <td>72.482498</td>\n      <td>73.419998</td>\n      <td>72.379997</td>\n      <td>73.412498</td>\n      <td>72.909500</td>\n      <td>100805600</td>\n    </tr>\n    <tr>\n      <th>2020-01-02</th>\n      <td>74.059998</td>\n      <td>75.150002</td>\n      <td>73.797501</td>\n      <td>75.087502</td>\n      <td>74.573036</td>\n      <td>135480400</td>\n    </tr>\n    <tr>\n      <th>2020-01-03</th>\n      <td>74.287498</td>\n      <td>75.144997</td>\n      <td>74.125000</td>\n      <td>74.357498</td>\n      <td>73.848030</td>\n      <td>146322800</td>\n    </tr>\n    <tr>\n      <th>2020-01-06</th>\n      <td>73.447502</td>\n      <td>74.989998</td>\n      <td>73.187500</td>\n      <td>74.949997</td>\n      <td>74.436470</td>\n      <td>118387200</td>\n    </tr>\n    <tr>\n      <th>2020-01-07</th>\n      <td>74.959999</td>\n      <td>75.224998</td>\n      <td>74.370003</td>\n      <td>74.597504</td>\n      <td>74.086395</td>\n      <td>108872000</td>\n    </tr>\n    <tr>\n      <th>...</th>\n      <td>...</td>\n      <td>...</td>\n      <td>...</td>\n      <td>...</td>\n      <td>...</td>\n      <td>...</td>\n    </tr>\n    <tr>\n      <th>2020-09-02</th>\n      <td>137.589996</td>\n      <td>137.979996</td>\n      <td>127.000000</td>\n      <td>131.399994</td>\n      <td>131.399994</td>\n      <td>200119000</td>\n    </tr>\n    <tr>\n      <th>2020-09-03</th>\n      <td>126.910004</td>\n      <td>128.839996</td>\n      <td>120.500000</td>\n      <td>120.879997</td>\n      <td>120.879997</td>\n      <td>257599600</td>\n    </tr>\n    <tr>\n      <th>2020-09-04</th>\n      <td>120.070000</td>\n      <td>123.699997</td>\n      <td>110.889999</td>\n      <td>120.959999</td>\n      <td>120.959999</td>\n      <td>332607200</td>\n    </tr>\n    <tr>\n      <th>2020-09-08</th>\n      <td>113.949997</td>\n      <td>118.989998</td>\n      <td>112.680000</td>\n      <td>112.820000</td>\n      <td>112.820000</td>\n      <td>231366600</td>\n    </tr>\n    <tr>\n      <th>2020-09-09</th>\n      <td>117.260002</td>\n      <td>119.139999</td>\n      <td>115.260002</td>\n      <td>117.320000</td>\n      <td>117.320000</td>\n      <td>176940500</td>\n    </tr>\n  </tbody>\n</table>\n<p>175 rows × 6 columns</p>\n</div>"
     },
     "metadata": {},
     "execution_count": 2
    }
   ],
   "source": [
    "company = 'AAPL'\n",
    "data = yf.download(company, start=\"2020-01-01\", end=\"2020-09-10\")\n",
    "data"
   ]
  },
  {
   "cell_type": "code",
   "execution_count": 6,
   "metadata": {
    "tags": []
   },
   "outputs": [
    {
     "output_type": "stream",
     "name": "stdout",
     "text": "<class 'pandas.core.frame.DataFrame'>\n"
    }
   ],
   "source": [
    "print(type(data))"
   ]
  },
  {
   "cell_type": "code",
   "execution_count": 11,
   "metadata": {},
   "outputs": [],
   "source": [
    "prices = data[data.columns[0:1]]"
   ]
  },
  {
   "cell_type": "code",
   "execution_count": 12,
   "metadata": {},
   "outputs": [
    {
     "output_type": "execute_result",
     "data": {
      "text/plain": "                  Open\nDate                  \n2019-12-31   72.482498\n2020-01-02   74.059998\n2020-01-03   74.287498\n2020-01-06   73.447502\n2020-01-07   74.959999\n...                ...\n2020-09-02  137.589996\n2020-09-03  126.910004\n2020-09-04  120.070000\n2020-09-08  113.949997\n2020-09-09  117.260002\n\n[175 rows x 1 columns]",
      "text/html": "<div>\n<style scoped>\n    .dataframe tbody tr th:only-of-type {\n        vertical-align: middle;\n    }\n\n    .dataframe tbody tr th {\n        vertical-align: top;\n    }\n\n    .dataframe thead th {\n        text-align: right;\n    }\n</style>\n<table border=\"1\" class=\"dataframe\">\n  <thead>\n    <tr style=\"text-align: right;\">\n      <th></th>\n      <th>Open</th>\n    </tr>\n    <tr>\n      <th>Date</th>\n      <th></th>\n    </tr>\n  </thead>\n  <tbody>\n    <tr>\n      <th>2019-12-31</th>\n      <td>72.482498</td>\n    </tr>\n    <tr>\n      <th>2020-01-02</th>\n      <td>74.059998</td>\n    </tr>\n    <tr>\n      <th>2020-01-03</th>\n      <td>74.287498</td>\n    </tr>\n    <tr>\n      <th>2020-01-06</th>\n      <td>73.447502</td>\n    </tr>\n    <tr>\n      <th>2020-01-07</th>\n      <td>74.959999</td>\n    </tr>\n    <tr>\n      <th>...</th>\n      <td>...</td>\n    </tr>\n    <tr>\n      <th>2020-09-02</th>\n      <td>137.589996</td>\n    </tr>\n    <tr>\n      <th>2020-09-03</th>\n      <td>126.910004</td>\n    </tr>\n    <tr>\n      <th>2020-09-04</th>\n      <td>120.070000</td>\n    </tr>\n    <tr>\n      <th>2020-09-08</th>\n      <td>113.949997</td>\n    </tr>\n    <tr>\n      <th>2020-09-09</th>\n      <td>117.260002</td>\n    </tr>\n  </tbody>\n</table>\n<p>175 rows × 1 columns</p>\n</div>"
     },
     "metadata": {},
     "execution_count": 12
    }
   ],
   "source": [
    "prices"
   ]
  },
  {
   "cell_type": "code",
   "execution_count": null,
   "metadata": {},
   "outputs": [],
   "source": []
  }
 ]
}